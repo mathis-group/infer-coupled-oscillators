{
 "cells": [
  {
   "cell_type": "markdown",
   "metadata": {},
   "source": [
    "# Inferring Coupled Oscillatory Frequencies \n",
    "\n",
    "This notebook contains preliminary analysis of a simplified coupled oscillator model. The goal is to simulate oscilattors under different coupling strengths and then estimate how well we can infer the native frequency of the oscillator (e.g. the oscillator without any coupling)"
   ]
  },
  {
   "cell_type": "code",
   "execution_count": 8,
   "metadata": {},
   "outputs": [],
   "source": [
    "using OrdinaryDiffEq, LinearAlgebra, ForwardDiff, NonlinearSolve, Plots\n",
    "k  = 4.0\n",
    "H(q, p) = norm(p)^2 / 2 + k*norm(q)^2\n",
    "\n",
    "pdot(dp, p, q, params, t) = ForwardDiff.gradient!(dp, q -> -H(q, p), q)\n",
    "qdot(dq, p, q, params, t) = ForwardDiff.gradient!(dq, p -> H(q, p), p)\n",
    "\n",
    "initial_position = [1.0, -1.0, 1.1, 1.2, 1.3, 1.4, 1.4, 1.5]\n",
    "initial_velocity = [0.0, 0.0, 0.0, 0.0, 0.0, 0.0, 0.0, 0.0]\n",
    "initial_cond = (initial_position, initial_velocity)\n",
    "tspan = (0, 200.0)\n",
    "prob = DynamicalODEProblem(pdot, qdot, initial_velocity, initial_position, tspan)\n",
    "sol = solve(prob, KahanLi6(), dt=1 // 100);"
   ]
  },
  {
   "cell_type": "code",
   "execution_count": 9,
   "metadata": {},
   "outputs": [],
   "source": [
    "\n",
    "tspan = (0, 200.0)\n",
    "prob = DynamicalODEProblem(pdot, qdot, initial_velocity, initial_position, tspan)\n",
    "sol = solve(prob, KahanLi6(), dt=1 // 10);"
   ]
  },
  {
   "cell_type": "code",
   "execution_count": null,
   "metadata": {},
   "outputs": [],
   "source": [
    "plot(sol)"
   ]
  },
  {
   "cell_type": "code",
   "execution_count": null,
   "metadata": {},
   "outputs": [],
   "source": [
    "plot_orbit(sol) = plot(sol, idxs=(3, 4), lab=\"Orbit\", title=\"Kepler Problem Solution\")\n",
    "\n",
    "function plot_first_integrals(sol, H, L)\n",
    "    plot(initial_first_integrals[1] .- map(u -> H(u.x[2], u.x[1]), sol.u),\n",
    "        lab=\"Energy variation\", title=\"First Integrals\")\n",
    "    plot!(initial_first_integrals[2] .- map(u -> L(u.x[2], u.x[1]), sol.u),\n",
    "        lab=\"Angular momentum variation\")\n",
    "end\n",
    "analysis_plot(sol, H, L) = plot(plot_orbit(sol), plot_first_integrals(sol, H, L))\n",
    "\n",
    "analysis_plot(sol, H, L)"
   ]
  },
  {
   "cell_type": "code",
   "execution_count": null,
   "metadata": {},
   "outputs": [],
   "source": [
    "rand(100) .- 0.5"
   ]
  },
  {
   "cell_type": "code",
   "execution_count": null,
   "metadata": {},
   "outputs": [],
   "source": [
    "1.0//10.0"
   ]
  },
  {
   "cell_type": "code",
   "execution_count": null,
   "metadata": {},
   "outputs": [],
   "source": [
    "p = (ω, α)\n",
    "\n",
    "w, a = p \n",
    "\n",
    "println(a)"
   ]
  },
  {
   "cell_type": "code",
   "execution_count": null,
   "metadata": {},
   "outputs": [],
   "source": [
    "sum(A .- A', dims=2)"
   ]
  },
  {
   "cell_type": "code",
   "execution_count": null,
   "metadata": {},
   "outputs": [],
   "source": [
    "ω"
   ]
  },
  {
   "cell_type": "code",
   "execution_count": null,
   "metadata": {},
   "outputs": [],
   "source": []
  }
 ],
 "metadata": {
  "kernelspec": {
   "display_name": "Julia 1.11.1",
   "language": "julia",
   "name": "julia-1.11"
  },
  "language_info": {
   "file_extension": ".jl",
   "mimetype": "application/julia",
   "name": "julia",
   "version": "1.11.1"
  }
 },
 "nbformat": 4,
 "nbformat_minor": 2
}

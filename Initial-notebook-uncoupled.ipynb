{
 "cells": [
  {
   "cell_type": "markdown",
   "metadata": {},
   "source": [
    "# Inferring Coupled Oscillatory Frequencies \n",
    "\n",
    "This notebook contains preliminary analysis of a simplified coupled oscillator model. The goal is to simulate oscilattors under different coupling strengths and then estimate how well we can infer the native frequency of the oscillator (e.g. the oscillator without any coupling)"
   ]
  },
  {
   "cell_type": "code",
   "execution_count": 1,
   "metadata": {},
   "outputs": [],
   "source": [
    "# Load packages\n",
    "using DifferentialEquations, OrdinaryDiffEq\n",
    "using Plots, Distributions\n",
    "using FFTW, Peaks, Images"
   ]
  },
  {
   "cell_type": "code",
   "execution_count": null,
   "metadata": {},
   "outputs": [],
   "source": [
    "# Number of oscilators\n",
    "n = 50\n",
    "# Spring Constant\n",
    "k = 20.0\n",
    "# Time span of integration\n",
    "tspan = (0.0, 50000π) # TODO Find the relationship between accuracy and number of observed oscillation -- this sets limits on masses that can be detected in a given time interval\n",
    "# Sampling time\n",
    "dt = 0.1\n",
    "# Mass range\n",
    "uniform_dist = Uniform(100, 500)\n",
    "# Sample random integer masses\n",
    "masses = floor.(rand(uniform_dist, n))\n",
    "\n",
    "# Calculate frequencies\n",
    "ω = sqrt.(k ./ masses)\n",
    "\n"
   ]
  },
  {
   "cell_type": "code",
   "execution_count": 3,
   "metadata": {},
   "outputs": [],
   "source": [
    "# Solve the equations of motiion over time\n",
    "\n",
    "#Initial Conditions\n",
    "x₀ = repeat([0.0], n)  # Uniform initial position\n",
    "dx₀ = repeat([π / 2], n)# Uniform initial velocity    .* sign.(rand(n) .- 0.5)\n",
    "\n",
    "# Simple Harmonic Oscillator Problem (no coupling)\n",
    "# Define the problem\n",
    "function harmonicoscillator(ddu, du, u, ω, t)\n",
    "    \n",
    "    ddu[:] .= -ω.^2 .* u \n",
    "end\n",
    "\n",
    "#Pass to solvers\n",
    "prob = SecondOrderODEProblem(harmonicoscillator, dx₀, x₀, tspan, ω)\n",
    "sol = solve(prob, DPRKN6(), saveat=dt);\n"
   ]
  },
  {
   "cell_type": "code",
   "execution_count": null,
   "metadata": {},
   "outputs": [],
   "source": [
    "# We'll get the \"image\" current as a single signal,\n",
    "# To simulate that we take the sum of the individual variables as the signal\n",
    "# The solver gives us the velocity and positions, but we'll drop the velocity, that's why we start with the (n+1) index\n",
    "sum_positions = transpose(sum(hcat(sol.u...)[(n+1):(2*n), :], dims=1))\n",
    "sum_positions\n"
   ]
  },
  {
   "cell_type": "code",
   "execution_count": null,
   "metadata": {},
   "outputs": [],
   "source": [
    "# We don't want the transient, we just want the long term behavior so we will drop 20% of the signal\n",
    "start_idx = Int64(round(0.2*length(sum_positions)))\n"
   ]
  },
  {
   "cell_type": "code",
   "execution_count": null,
   "metadata": {},
   "outputs": [],
   "source": [
    "# We can plot the time domain signal \n",
    "plot(sol.t[start_idx:end], sum_positions[start_idx:end])"
   ]
  },
  {
   "cell_type": "code",
   "execution_count": null,
   "metadata": {},
   "outputs": [],
   "source": [
    "# We'll calculate the Fourier Transform of the integrated signal (FFT), and take the absolute value to get real values\n",
    "k_values = abs.(fft(sum_positions[start_idx:end]))\n"
   ]
  },
  {
   "cell_type": "code",
   "execution_count": null,
   "metadata": {},
   "outputs": [],
   "source": [
    "# We can plot the spectra\n",
    "plot(k_values[1:10000])"
   ]
  },
  {
   "cell_type": "markdown",
   "metadata": {},
   "source": [
    "With the frequency spectra we can calculate the estimated masses directly"
   ]
  },
  {
   "cell_type": "code",
   "execution_count": null,
   "metadata": {},
   "outputs": [],
   "source": [
    "# Find the top of the peaks TODO: This could be more clever, in particular we should probably get the width of the peaks too!\n",
    "ks = findlocalmaxima(k_values[1:20000])\n",
    "# ks is of type \"CartesianIndex\" we need to convert it to Type Float64\n",
    "ks_float = convert.(Float64, ks)\n",
    "# With the peaks we can calculate the frequency by multiplying by 2pi ( ω = 2π*f), and dividing by the total integration time (e.g. because it's a discrete system)\n",
    "infered_ωs = 2π .* ks_float ./ tspan[2]\n",
    "# From the ω values we can calculate the masses\n",
    "infered_masses = k ./ (infered_ωs.^2)  \n",
    "\n",
    "println(unique(infered_masses))\n",
    "length(infered_masses)"
   ]
  },
  {
   "cell_type": "code",
   "execution_count": null,
   "metadata": {},
   "outputs": [],
   "source": [
    "# We can see what the difference between infered_masses and masses are \n",
    "sort(unique(masses)) .- sort(unique(infered_masses))"
   ]
  },
  {
   "cell_type": "code",
   "execution_count": null,
   "metadata": {},
   "outputs": [],
   "source": [
    "# And we can plot them against each other, a straight line means they match up perfectly\n",
    "scatter(sort(infered_masses)[1:end-1], sort(unique(masses)))"
   ]
  },
  {
   "cell_type": "code",
   "execution_count": null,
   "metadata": {},
   "outputs": [],
   "source": []
  }
 ],
 "metadata": {
  "kernelspec": {
   "display_name": "Julia 1.11.1",
   "language": "julia",
   "name": "julia-1.11"
  },
  "language_info": {
   "file_extension": ".jl",
   "mimetype": "application/julia",
   "name": "julia",
   "version": "1.11.1"
  }
 },
 "nbformat": 4,
 "nbformat_minor": 2
}
